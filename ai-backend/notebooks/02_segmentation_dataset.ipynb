{
 "cells": [
  {
   "cell_type": "markdown",
   "id": "19601dc8",
   "metadata": {},
   "source": [
    "# Synthetic pokemon TCG segmentation dataset"
   ]
  },
  {
   "cell_type": "code",
   "execution_count": 1,
   "id": "d31d53ad",
   "metadata": {},
   "outputs": [
    {
     "name": "stdout",
     "output_type": "stream",
     "text": [
      "Project root: /home/khalil/pkmn_card_detection\n",
      "Python version: 3.10.12 (main, May 27 2025, 17:12:29) [GCC 11.4.0]\n",
      "Setup complete!\n"
     ]
    }
   ],
   "source": [
    "# first ensure we have a full database:\n",
    "import sys\n",
    "from pathlib import Path\n",
    "import warnings\n",
    "warnings.filterwarnings('ignore')\n",
    "\n",
    "# Add parent directories to path\n",
    "notebook_dir = Path.cwd()\n",
    "project_root = notebook_dir.parent.parent\n",
    "sys.path.insert(0, str(project_root))\n",
    "\n",
    "# Import required libraries\n",
    "import numpy as np\n",
    "import pandas as pd\n",
    "import matplotlib.pyplot as plt\n",
    "import seaborn as sns\n",
    "from PIL import Image\n",
    "import requests\n",
    "from io import BytesIO\n",
    "from typing import List, Optional\n",
    "import json\n",
    "\n",
    "# Configure plotting\n",
    "plt.style.use('seaborn-v0_8-darkgrid')\n",
    "sns.set_palette(\"husl\")\n",
    "%matplotlib inline\n",
    "\n",
    "print(f\"Project root: {project_root}\")\n",
    "print(f\"Python version: {sys.version}\")\n",
    "print(\"Setup complete!\")\n",
    "\n"
   ]
  },
  {
   "cell_type": "code",
   "execution_count": null,
   "id": "c2e1961f",
   "metadata": {},
   "outputs": [
    {
     "name": "stdout",
     "output_type": "stream",
     "text": [
      "2025-08-06 23:01:02 - notebook_01 - INFO - 1515102013.py:8 - Initializing Pokemon TCG client and cache manager...\n",
      "2025-08-06 23:01:02 - database.api_client - INFO - api_client.py:52 - Pokemon TCG API client initialized\n",
      "2025-08-06 23:01:02 - database.cache_manager - INFO - cache_manager.py:42 - Cache manager initialized with directory: cache\n",
      "Cache Statistics:\n",
      "  Total entries: 2\n",
      "  Total size: 11.11 MB\n",
      "  Valid entries: 2\n",
      "  Expired entries: 0\n"
     ]
    },
    {
     "ename": "FileNotFoundError",
     "evalue": "[Errno 2] No such file or directory: 'v2.15/cards'",
     "output_type": "error",
     "traceback": [
      "\u001b[0;31m---------------------------------------------------------------------------\u001b[0m",
      "\u001b[0;31mFileNotFoundError\u001b[0m                         Traceback (most recent call last)",
      "Cell \u001b[0;32mIn[2], line 20\u001b[0m\n\u001b[1;32m     17\u001b[0m \u001b[38;5;28mprint\u001b[39m(\u001b[38;5;124mf\u001b[39m\u001b[38;5;124m\"\u001b[39m\u001b[38;5;124m  Valid entries: \u001b[39m\u001b[38;5;132;01m{\u001b[39;00mcache_stats\u001b[38;5;241m.\u001b[39mget(\u001b[38;5;124m'\u001b[39m\u001b[38;5;124mvalid_entries\u001b[39m\u001b[38;5;124m'\u001b[39m,\u001b[38;5;250m \u001b[39m\u001b[38;5;241m0\u001b[39m)\u001b[38;5;132;01m}\u001b[39;00m\u001b[38;5;124m\"\u001b[39m)\n\u001b[1;32m     18\u001b[0m \u001b[38;5;28mprint\u001b[39m(\u001b[38;5;124mf\u001b[39m\u001b[38;5;124m\"\u001b[39m\u001b[38;5;124m  Expired entries: \u001b[39m\u001b[38;5;132;01m{\u001b[39;00mcache_stats\u001b[38;5;241m.\u001b[39mget(\u001b[38;5;124m'\u001b[39m\u001b[38;5;124mexpired_entries\u001b[39m\u001b[38;5;124m'\u001b[39m,\u001b[38;5;250m \u001b[39m\u001b[38;5;241m0\u001b[39m)\u001b[38;5;132;01m}\u001b[39;00m\u001b[38;5;124m\"\u001b[39m)\n\u001b[0;32m---> 20\u001b[0m \u001b[43mclient\u001b[49m\u001b[38;5;241;43m.\u001b[39;49m\u001b[43mdownload_cards_from_gh_release\u001b[49m\u001b[43m(\u001b[49m\u001b[38;5;124;43m\"\u001b[39;49m\u001b[38;5;124;43mhttps://github.com/PokemonTCG/pokemon-tcg-data/archive/refs/tags/v2.15.zip\u001b[39;49m\u001b[38;5;124;43m\"\u001b[39;49m\u001b[43m)\u001b[49m\n",
      "File \u001b[0;32m~/pkmn_card_detection/database/api_client.py:286\u001b[0m, in \u001b[0;36mPokemonTCGClient.download_cards_from_gh_release\u001b[0;34m(self, link)\u001b[0m\n\u001b[1;32m    284\u001b[0m cards_dir \u001b[38;5;241m=\u001b[39m dest_folder \u001b[38;5;241m/\u001b[39m \u001b[38;5;124m\"\u001b[39m\u001b[38;5;124mcards\u001b[39m\u001b[38;5;124m\"\u001b[39m\n\u001b[1;32m    285\u001b[0m cards: List[Card] \u001b[38;5;241m=\u001b[39m []\n\u001b[0;32m--> 286\u001b[0m \u001b[38;5;28;01mfor\u001b[39;00m folder \u001b[38;5;129;01min\u001b[39;00m cards_dir\u001b[38;5;241m.\u001b[39miterdir():\n\u001b[1;32m    287\u001b[0m     \u001b[38;5;28;01mif\u001b[39;00m folder\u001b[38;5;241m.\u001b[39mis_dir():\n\u001b[1;32m    288\u001b[0m         \u001b[38;5;28;01mfor\u001b[39;00m file \u001b[38;5;129;01min\u001b[39;00m folder\u001b[38;5;241m.\u001b[39miterdir():\n",
      "File \u001b[0;32m/usr/lib/python3.10/pathlib.py:1017\u001b[0m, in \u001b[0;36mPath.iterdir\u001b[0;34m(self)\u001b[0m\n\u001b[1;32m   1013\u001b[0m \u001b[38;5;28;01mdef\u001b[39;00m\u001b[38;5;250m \u001b[39m\u001b[38;5;21miterdir\u001b[39m(\u001b[38;5;28mself\u001b[39m):\n\u001b[1;32m   1014\u001b[0m \u001b[38;5;250m    \u001b[39m\u001b[38;5;124;03m\"\"\"Iterate over the files in this directory.  Does not yield any\u001b[39;00m\n\u001b[1;32m   1015\u001b[0m \u001b[38;5;124;03m    result for the special paths '.' and '..'.\u001b[39;00m\n\u001b[1;32m   1016\u001b[0m \u001b[38;5;124;03m    \"\"\"\u001b[39;00m\n\u001b[0;32m-> 1017\u001b[0m     \u001b[38;5;28;01mfor\u001b[39;00m name \u001b[38;5;129;01min\u001b[39;00m \u001b[38;5;28;43mself\u001b[39;49m\u001b[38;5;241;43m.\u001b[39;49m\u001b[43m_accessor\u001b[49m\u001b[38;5;241;43m.\u001b[39;49m\u001b[43mlistdir\u001b[49m\u001b[43m(\u001b[49m\u001b[38;5;28;43mself\u001b[39;49m\u001b[43m)\u001b[49m:\n\u001b[1;32m   1018\u001b[0m         \u001b[38;5;28;01mif\u001b[39;00m name \u001b[38;5;129;01min\u001b[39;00m {\u001b[38;5;124m'\u001b[39m\u001b[38;5;124m.\u001b[39m\u001b[38;5;124m'\u001b[39m, \u001b[38;5;124m'\u001b[39m\u001b[38;5;124m..\u001b[39m\u001b[38;5;124m'\u001b[39m}:\n\u001b[1;32m   1019\u001b[0m             \u001b[38;5;66;03m# Yielding a path object for these makes little sense\u001b[39;00m\n\u001b[1;32m   1020\u001b[0m             \u001b[38;5;28;01mcontinue\u001b[39;00m\n",
      "\u001b[0;31mFileNotFoundError\u001b[0m: [Errno 2] No such file or directory: 'v2.15/cards'"
     ]
    }
   ],
   "source": [
    "# Download the full database locally from github release\n",
    "# Import our database module\n",
    "from database import PokemonTCGClient, CacheManager\n",
    "from core.logging_config import setup_logger\n",
    "\n",
    "# Set up logging\n",
    "logger = setup_logger(\"notebook_01\")\n",
    "logger.info(\"Initializing Pokemon TCG client and cache manager...\")\n",
    "client = PokemonTCGClient()\n",
    "cache = CacheManager()\n",
    "\n",
    "# Check cache statistics\n",
    "cache_stats = cache.get_cache_stats()\n",
    "print(\"Cache Statistics:\")\n",
    "print(f\"  Total entries: {cache_stats.get('total_entries', 0)}\")\n",
    "print(f\"  Total size: {cache_stats.get('total_size_mb', 0):.2f} MB\")\n",
    "print(f\"  Valid entries: {cache_stats.get('valid_entries', 0)}\")\n",
    "print(f\"  Expired entries: {cache_stats.get('expired_entries', 0)}\")\n",
    "\n",
    "\n"
   ]
  }
 ],
 "metadata": {
  "kernelspec": {
   "display_name": ".venv",
   "language": "python",
   "name": "python3"
  },
  "language_info": {
   "codemirror_mode": {
    "name": "ipython",
    "version": 3
   },
   "file_extension": ".py",
   "mimetype": "text/x-python",
   "name": "python",
   "nbconvert_exporter": "python",
   "pygments_lexer": "ipython3",
   "version": "3.10.12"
  }
 },
 "nbformat": 4,
 "nbformat_minor": 5
}
